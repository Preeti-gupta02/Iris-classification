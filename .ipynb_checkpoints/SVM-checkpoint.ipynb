{
 "cells": [
  {
   "cell_type": "code",
   "execution_count": 2,
   "id": "cac23c83",
   "metadata": {},
   "outputs": [],
   "source": [
    "# Hinge Loss\n",
    "# Regularization\n",
    "# Hyperplane selection using margin maximization and hinge loss minimization"
   ]
  },
  {
   "cell_type": "code",
   "execution_count": 3,
   "id": "0f7ec7c3",
   "metadata": {},
   "outputs": [
    {
     "name": "stdout",
     "output_type": "stream",
     "text": [
      "Requirement already satisfied: scikit-learn in c:\\users\\2372332\\miniconda3\\lib\\site-packages (1.1.2)\n",
      "Requirement already satisfied: joblib>=1.0.0 in c:\\users\\2372332\\miniconda3\\lib\\site-packages (from scikit-learn) (1.2.0)\n",
      "Requirement already satisfied: scipy>=1.3.2 in c:\\users\\2372332\\miniconda3\\lib\\site-packages (from scikit-learn) (1.9.1)\n",
      "Requirement already satisfied: threadpoolctl>=2.0.0 in c:\\users\\2372332\\miniconda3\\lib\\site-packages (from scikit-learn) (3.1.0)\n",
      "Requirement already satisfied: numpy>=1.17.3 in c:\\users\\2372332\\miniconda3\\lib\\site-packages (from scikit-learn) (1.23.0)\n"
     ]
    }
   ],
   "source": [
    "# Installations\n",
    "!pip install scikit-learn"
   ]
  },
  {
   "cell_type": "code",
   "execution_count": 4,
   "id": "f84fa779",
   "metadata": {},
   "outputs": [
    {
     "data": {
      "text/plain": [
       "'C:\\\\Users\\\\2372332\\\\Documents\\\\Personal\\\\Data Science'"
      ]
     },
     "execution_count": 4,
     "metadata": {},
     "output_type": "execute_result"
    }
   ],
   "source": [
    "import os\n",
    "os.getcwd()"
   ]
  },
  {
   "cell_type": "code",
   "execution_count": 50,
   "id": "07df26fc",
   "metadata": {},
   "outputs": [],
   "source": [
    "import pandas as pd\n",
    "data = pd.read_csv(\"./iris-dataset/Iris.csv\")"
   ]
  },
  {
   "cell_type": "code",
   "execution_count": 51,
   "id": "9043363f",
   "metadata": {},
   "outputs": [],
   "source": [
    "data = data.drop(['Id'], axis=1)"
   ]
  },
  {
   "cell_type": "code",
   "execution_count": 52,
   "id": "d9557fe4",
   "metadata": {},
   "outputs": [],
   "source": [
    "data = data.drop(data.iloc[100:150].index)"
   ]
  },
  {
   "cell_type": "code",
   "execution_count": 53,
   "id": "eec1cf94",
   "metadata": {},
   "outputs": [],
   "source": [
    "x = data[\"SepalLengthCm\"]\n",
    "y = data[\"PetalLengthCm\"]"
   ]
  },
  {
   "cell_type": "code",
   "execution_count": 54,
   "id": "1bc00853",
   "metadata": {},
   "outputs": [],
   "source": [
    "setosa_x = x[0:50]\n",
    "setosa_y = y[0:50]\n",
    "versicolor_x = x[50:100]\n",
    "versicolor_y = y[50:100]"
   ]
  },
  {
   "cell_type": "code",
   "execution_count": 55,
   "id": "1c95e2ab",
   "metadata": {},
   "outputs": [
    {
     "data": {
      "image/png": "[encoded data removed]",
      "text/plain": [
       "<Figure size 432x288 with 1 Axes>"
      ]
     },
     "metadata": {
      "needs_background": "light"
     },
     "output_type": "display_data"
    }
   ],
   "source": [
    "import matplotlib.pyplot as plt\n",
    "plt.figure()\n",
    "plt.scatter(setosa_x, setosa_y, marker='+')\n",
    "plt.scatter(versicolor_x, versicolor_y, marker='*')\n",
    "plt.show()"
   ]
  },
  {
   "cell_type": "code",
   "execution_count": 56,
   "id": "89630a6e",
   "metadata": {},
   "outputs": [],
   "source": [
    "data = data.drop(['PetalLengthCm', 'PetalWidthCm'], axis=1)"
   ]
  },
  {
   "cell_type": "code",
   "execution_count": 57,
   "id": "17d15116",
   "metadata": {},
   "outputs": [],
   "source": [
    "Y = []\n",
    "target = data['Species']\n",
    "for val in target:\n",
    "    if(val == 'Iris-setosa'):\n",
    "        Y.append(-1)\n",
    "    else:\n",
    "        Y.append(1)"
   ]
  },
  {
   "cell_type": "code",
   "execution_count": 58,
   "id": "659952fc",
   "metadata": {},
   "outputs": [],
   "source": [
    "data = data.drop(['Species'], axis=1)"
   ]
  },
  {
   "cell_type": "code",
   "execution_count": 59,
   "id": "0cc4e7eb",
   "metadata": {},
   "outputs": [],
   "source": [
    "X = data.values.tolist()"
   ]
  },
  {
   "cell_type": "code",
   "execution_count": 70,
   "id": "35685e3f",
   "metadata": {},
   "outputs": [],
   "source": [
    "from sklearn.utils import shuffle\n",
    "X, Y = shuffle(X, Y)"
   ]
  },
  {
   "cell_type": "code",
   "execution_count": 80,
   "id": "fd4773d3",
   "metadata": {},
   "outputs": [],
   "source": [
    "# sklearn.cross_validation is replaced with sklearn.model_selection\n",
    "from sklearn.model_selection import train_test_split\n",
    "x_train = []\n",
    "y_train = []\n",
    "x_test = []\n",
    "y_test = []\n",
    "\n",
    "x_train, x_test, y_train, y_test = train_test_split(X, Y, train_size=0.9)"
   ]
  },
  {
   "cell_type": "code",
   "execution_count": 81,
   "id": "9c036aee",
   "metadata": {},
   "outputs": [],
   "source": [
    "import numpy as np\n",
    "x_train = np.array(x_train)\n",
    "y_train = np.array(y_train)\n",
    "x_test = np.array(x_test)\n",
    "y_test = np.array(y_test)"
   ]
  },
  {
   "cell_type": "code",
   "execution_count": 83,
   "id": "2d1567e0",
   "metadata": {},
   "outputs": [],
   "source": [
    "y_train = y_train.reshape(90,1)\n",
    "y_test = y_test.reshape(10,1)"
   ]
  },
  {
   "cell_type": "code",
   "execution_count": 104,
   "id": "c4256ccf",
   "metadata": {},
   "outputs": [],
   "source": [
    "# Weights\n",
    "w1 = np.zeros((90,1))\n",
    "w2 = np.zeros((90,1))\n",
    "train_f1 = x_train[:,0]\n",
    "train_f2 = x_train[:, 1]\n",
    "train_f1 = train_f1.reshape(90,1)\n",
    "train_f2 = train_f2.reshape(90,1)\n",
    "epochs = 1\n",
    "alpha = 0.0001\n",
    "while epochs<10000:\n",
    "    line = w1*train_f1 + w2*train_f2\n",
    "    side = line*y_train\n",
    "    lam = 1/epochs\n",
    "    count = 0\n",
    "    for val in side:\n",
    "        if val>=1:\n",
    "            update1 = 2*lam*w1\n",
    "            update2 = 2*lam*w2\n",
    "            \n",
    "        else:\n",
    "            update1 = 2*lam*w1 - y_train[count]*train_f1[count]\n",
    "            update2 = 2*lam*w2 - y_train[count]*train_f2[count]\n",
    "        \n",
    "        w1 = w1 - alpha*update1\n",
    "        w2 = w2 - alpha*update2\n",
    "        count = count + 1\n",
    "    epochs = epochs + 1"
   ]
  },
  {
   "cell_type": "code",
   "execution_count": 111,
   "id": "d374114a",
   "metadata": {},
   "outputs": [
    {
     "data": {
      "text/plain": [
       "array([ 1,  2,  3,  4,  5,  6,  7,  8,  9, 10, 11, 12, 13, 14, 15, 16, 17,\n",
       "       18, 19, 20, 21, 22, 23, 24, 25, 26, 27, 28, 29, 30, 31, 32, 33, 34,\n",
       "       35, 36, 37, 38, 39, 40, 41, 42, 43, 44, 45, 46, 47, 48, 49, 50, 51,\n",
       "       52, 53, 54, 55, 56, 57, 58, 59, 60, 61, 62, 63, 64, 65, 66, 67, 68,\n",
       "       69, 70, 71, 72, 73, 74, 75, 76, 77, 78, 79, 80, 81, 82, 83, 84, 85,\n",
       "       86, 87, 88, 89])"
      ]
     },
     "execution_count": 111,
     "metadata": {},
     "output_type": "execute_result"
    }
   ],
   "source": [
    "np.arange(1,90)"
   ]
  },
  {
   "cell_type": "code",
   "execution_count": 113,
   "id": "595ed069",
   "metadata": {},
   "outputs": [
    {
     "ename": "SyntaxError",
     "evalue": "invalid syntax (835079053.py, line 3)",
     "output_type": "error",
     "traceback": [
      "\u001b[1;36m  Input \u001b[1;32mIn [113]\u001b[1;36m\u001b[0m\n\u001b[1;33m    plt.scatter(np.arange(1:90), line)\u001b[0m\n\u001b[1;37m                           ^\u001b[0m\n\u001b[1;31mSyntaxError\u001b[0m\u001b[1;31m:\u001b[0m invalid syntax\n"
     ]
    }
   ],
   "source": [
    "line\n",
    "\n",
    "plt.scatter(np.arange(1:90), line)\n",
    "plt.show()"
   ]
  },
  {
   "cell_type": "code",
   "execution_count": null,
   "id": "7d03d685",
   "metadata": {},
   "outputs": [],
   "source": []
  }
 ],
 "metadata": {
  "kernelspec": {
   "display_name": "Python 3 (ipykernel)",
   "language": "python",
   "name": "python3"
  },
  "language_info": {
   "codemirror_mode": {
    "name": "ipython",
    "version": 3
   },
   "file_extension": ".py",
   "mimetype": "text/x-python",
   "name": "python",
   "nbconvert_exporter": "python",
   "pygments_lexer": "ipython3",
   "version": "3.9.12"
  }
 },
 "nbformat": 4,
 "nbformat_minor": 5
}
